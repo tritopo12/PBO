{
  "nbformat": 4,
  "nbformat_minor": 0,
  "metadata": {
    "colab": {
      "provenance": [],
      "collapsed_sections": []
    },
    "kernelspec": {
      "name": "python3",
      "display_name": "Python 3"
    }
  },
  "cells": [
    {
      "cell_type": "code",
      "metadata": {
        "id": "QChNmnXf_-pE"
      },
      "source": [],
      "execution_count": null,
      "outputs": []
    },
    {
      "cell_type": "code",
      "metadata": {
        "id": "9z88mbUdJ9LR"
      },
      "source": [],
      "execution_count": null,
      "outputs": []
    },
    {
      "cell_type": "markdown",
      "metadata": {
        "id": "CQqHfxdyArzJ"
      },
      "source": [
        "##Code Hello World\n",
        "Struktur code pada Python relatif sangat sederhana dan tidak terlalu rumit seperti pada Java ataupun C. Selain karena memang mudah dibaca, python juga termasuk pada high level programming language. Sebagai contoh, cobalah ketik coding pada Code Editor dengan perintah berikut untuk mengeluarkan kata-kata yang diperintahkan. Ekskusilah perintah dari kode dibawah ini."
      ]
    },
    {
      "cell_type": "code",
      "metadata": {
        "id": "oBXKvs3qA2Xb",
        "colab": {
          "base_uri": "https://localhost:8080/"
        },
        "outputId": "c9d26f21-3f09-4943-ef66-3e430f664712"
      },
      "source": [
        "print (\"Hello World\")"
      ],
      "execution_count": null,
      "outputs": [
        {
          "output_type": "stream",
          "name": "stdout",
          "text": [
            "Hello World\n"
          ]
        }
      ]
    },
    {
      "cell_type": "markdown",
      "metadata": {
        "id": "8yPh4FQWA_DU"
      },
      "source": [
        "Coba lanjutkan code tersebut pada baris selanjutnya dengan menggunakan kode ini :"
      ]
    },
    {
      "cell_type": "code",
      "metadata": {
        "id": "Yy5gqIzRBApb",
        "colab": {
          "base_uri": "https://localhost:8080/"
        },
        "outputId": "54468093-ef1f-40b8-ef0b-679e82b8dbb6"
      },
      "source": [
        "print (\"Hello World\")\n",
        "print(5+1)"
      ],
      "execution_count": null,
      "outputs": [
        {
          "output_type": "stream",
          "name": "stdout",
          "text": [
            "Hello World\n",
            "6\n"
          ]
        }
      ]
    },
    {
      "cell_type": "markdown",
      "metadata": {
        "id": "PQsFFoqjBJm0"
      },
      "source": [
        "***Note : setiap print akan mencetak baris baru.***\n",
        "\n",
        "Memang terlihat sangat sederhana jika hanya untuk kasus sederhana yang kita pelajari pada section kali ini. Namun, python tidak sesederhana itu. Biasanya kita juga menggunakan import library khusus jika sudah menyangkut masalah yang lebih kompleks. Materi berikutnya mungkin akan menjelaskan lebih lanjut.\n",
        "\n",
        " \n",
        "\n",
        "**Tugas Praktek 3.1**  \n",
        "1. Tampilkan hasil perhitungan (10*2+5) pada baris pertama."
      ]
    },
    {
      "cell_type": "code",
      "metadata": {
        "id": "UVE42BSRq-Ac",
        "colab": {
          "base_uri": "https://localhost:8080/"
        },
        "outputId": "19aaad8c-3a1c-4d76-e313-64bf780c8b4d"
      },
      "source": [
        "# Jawab Tugas Praktek 3.1 Nomor 1\n",
        "(10*2+5)"
      ],
      "execution_count": null,
      "outputs": [
        {
          "output_type": "execute_result",
          "data": {
            "text/plain": [
              "25"
            ]
          },
          "metadata": {},
          "execution_count": 4
        }
      ]
    },
    {
      "cell_type": "markdown",
      "metadata": {
        "id": "KmVhSyrQq_S6"
      },
      "source": [
        "2. tampilkan teks \"Menuju Tak Terbatas dan Melampauinya\" pada baris kedua."
      ]
    },
    {
      "cell_type": "code",
      "metadata": {
        "id": "Wko-4QrwsBgj",
        "colab": {
          "base_uri": "https://localhost:8080/",
          "height": 36
        },
        "outputId": "2632785e-2af5-4697-8cc1-627f4f1dad92"
      },
      "source": [
        "# Jawab Tugas Praktek 3.1 Nomor 2\n",
        "(\"Menuju Tak Terbatas dan Melampauinya\")"
      ],
      "execution_count": 1,
      "outputs": [
        {
          "output_type": "execute_result",
          "data": {
            "text/plain": [
              "'Menuju Tak Terbatas dan Melampauinya'"
            ],
            "application/vnd.google.colaboratory.intrinsic+json": {
              "type": "string"
            }
          },
          "metadata": {},
          "execution_count": 1
        }
      ]
    },
    {
      "cell_type": "markdown",
      "metadata": {
        "id": "z5MM1FEBrswd"
      },
      "source": [
        "3. Tampilkan teks Nama anda"
      ]
    },
    {
      "cell_type": "code",
      "metadata": {
        "id": "8dylS54Rq_1D",
        "colab": {
          "base_uri": "https://localhost:8080/",
          "height": 36
        },
        "outputId": "1d86e2f7-5b89-4175-bd86-198837a10db3"
      },
      "source": [
        "# Jawab Tugas Praktek 3.1 Nomor 3\n",
        "(\"TriTopobrotoKusumo\")"
      ],
      "execution_count": 2,
      "outputs": [
        {
          "output_type": "execute_result",
          "data": {
            "text/plain": [
              "'TriTopobrotoKusumo'"
            ],
            "application/vnd.google.colaboratory.intrinsic+json": {
              "type": "string"
            }
          },
          "metadata": {},
          "execution_count": 2
        }
      ]
    }
  ]
}